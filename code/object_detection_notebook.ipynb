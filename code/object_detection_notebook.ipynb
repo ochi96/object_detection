{
 "cells": [
  {
   "cell_type": "code",
   "execution_count": null,
   "metadata": {},
   "outputs": [],
   "source": [
    "from google.colab import drive\n",
    "drive.mount('/content/gdrive')\n",
    "model_dir = '/content/gdrive/My Drive/Colab Notebooks/TransferLearning/Training'\n",
    "#!rm -rf '{model_dir}'\n",
    "#os.makedirs(model_dir, exist_ok=True)\n",
    "!ls -ltra '{model_dir}'/..\n",
    "\n",
    "4/xQG7yjr2-x7ERqRXmnnQcTthX3iFhRvFn4lzErFjWDtfa_0-9G6fBw0"
   ]
  }
 ],
 "metadata": {
  "kernelspec": {
   "display_name": "Python 3",
   "language": "python",
   "name": "python3"
  },
  "language_info": {
   "codemirror_mode": {
    "name": "ipython",
    "version": 3
   },
   "file_extension": ".py",
   "mimetype": "text/x-python",
   "name": "python",
   "nbconvert_exporter": "python",
   "pygments_lexer": "ipython3",
   "version": "3.7.0"
  }
 },
 "nbformat": 4,
 "nbformat_minor": 2
}
